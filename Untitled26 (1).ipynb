{
  "nbformat": 4,
  "nbformat_minor": 0,
  "metadata": {
    "colab": {
      "provenance": []
    },
    "kernelspec": {
      "name": "python3",
      "display_name": "Python 3"
    },
    "language_info": {
      "name": "python"
    }
  },
  "cells": [
    {
      "cell_type": "code",
      "execution_count": 53,
      "metadata": {
        "id": "vyoyGVyjdlpx"
      },
      "outputs": [],
      "source": [
        "import numpy as np\n",
        "import pandas as pd"
      ]
    },
    {
      "cell_type": "code",
      "source": [
        "#Super simply x y values, any ml algo should be able to find a solution immeditly\n",
        "X = np.array([1,3,5,7,9,11,13])\n",
        "y = np.array([2,6,10,14,18,22,26])"
      ],
      "metadata": {
        "id": "gr40OpgQdo26"
      },
      "execution_count": 41,
      "outputs": []
    },
    {
      "cell_type": "code",
      "source": [
        "pd.DataFrame(X,y).plot()"
      ],
      "metadata": {
        "colab": {
          "base_uri": "https://localhost:8080/",
          "height": 448
        },
        "id": "H_lcg-W5Co5g",
        "outputId": "820b75f0-d058-4457-f8ae-3123359fb943"
      },
      "execution_count": 56,
      "outputs": [
        {
          "output_type": "execute_result",
          "data": {
            "text/plain": [
              "<Axes: >"
            ]
          },
          "metadata": {},
          "execution_count": 56
        },
        {
          "output_type": "display_data",
          "data": {
            "text/plain": [
              "<Figure size 640x480 with 1 Axes>"
            ],
            "image/png": "[encoded data removed]"
          },
          "metadata": {}
        }
      ]
    },
    {
      "cell_type": "code",
      "source": [
        "# Loss = (1/n)sum(y-y_pred)^2 = (1/n)sum(y-(mx+b))^2\n",
        "# Gradeint Descent on m: m := m - r(dl/dm)\n",
        "# Gradeint Descent on b: b := b - r(dl/db)\n",
        "# Gradeint = <(1/n)sum(-2m(y-(mx+b)), (1/n)sum(-2(y-(mx+b))))"
      ],
      "metadata": {
        "id": "O8W57dx6d7fn"
      },
      "execution_count": 42,
      "outputs": []
    },
    {
      "cell_type": "code",
      "source": [
        "class linear_regression():\n",
        "  def __init__(self):\n",
        "    self.m = np.random.rand()\n",
        "    self.b = np.random.rand()\n",
        "    self.old_loss = float('inf')\n",
        "\n",
        "  def grad_descent(self,X,y,learning_rate, converge,progress=True):\n",
        "\n",
        "    #Find current loss and gradeints:\n",
        "    loss     = 0\n",
        "    db       = 0\n",
        "    dm       = 0\n",
        "    n        = len(X)\n",
        "    for i in range(len(X)):\n",
        "      loss += 1/n * (y[i] - self.m*X[i] -self.b)**2\n",
        "      db   += 1/n * (y[i] - self.m*X[i] -self.b)*(-2)\n",
        "      dm   += 1/n * (y[i] - self.m*X[i] -self.b)*(-2)*(self.m)\n",
        "\n",
        "    #Check for convergence\n",
        "    roc = abs((loss - self.old_loss) / loss)\n",
        "    if roc <= converge:\n",
        "      print(f\"Found convergence. New loss = {loss}, old loss ={self.old_loss}, rate of change = {roc}\")\n",
        "      return True\n",
        "\n",
        "    #Update variables\n",
        "    self.old_loss = loss\n",
        "    self.m = self.m - learning_rate*dm\n",
        "    self.b = self.b - learning_rate*db\n",
        "\n",
        "    #Update progress\n",
        "    if progress:\n",
        "      print(f\"Current loss: {loss}\")\n",
        "\n",
        "  def fit(self,X,y,epoch=300,learning_rate=.015,converge=.001,progress=True):\n",
        "    for _ in range(epoch):\n",
        "      if self.grad_descent(X,y,learning_rate,converge,progress):return\n",
        "    return\n",
        "\n",
        "  def predict(self,X):\n",
        "    return X*self.m + self.b"
      ],
      "metadata": {
        "id": "hxKXKfffeg8x"
      },
      "execution_count": 50,
      "outputs": []
    },
    {
      "cell_type": "code",
      "source": [
        "model = linear_regression()\n",
        "model.fit(X,y)\n",
        "print(model.predict(3))\n",
        "print(model.b,model.m)"
      ],
      "metadata": {
        "colab": {
          "base_uri": "https://localhost:8080/"
        },
        "id": "j6krXDrCga-U",
        "outputId": "9ce90133-a3ed-4661-ceda-eb19669015fa"
      },
      "execution_count": 51,
      "outputs": [
        {
          "output_type": "stream",
          "name": "stdout",
          "text": [
            "Current loss: 81.44091714083822\n",
            "Current loss: 52.163241906067825\n",
            "Current loss: 30.307199233219162\n",
            "Current loss: 16.067391769465626\n",
            "Current loss: 7.959326150583841\n",
            "Current loss: 3.853554061633793\n",
            "Current loss: 1.9451953238128452\n",
            "Current loss: 1.0980287496063759\n",
            "Current loss: 0.7241346484820577\n",
            "Current loss: 0.5545668707468435\n",
            "Current loss: 0.4739332443963746\n",
            "Current loss: 0.4335056891905881\n",
            "Current loss: 0.4122567584735688\n",
            "Current loss: 0.40067582098244936\n",
            "Current loss: 0.3942032179541005\n",
            "Current loss: 0.3905261109307666\n",
            "Current loss: 0.38841581446047335\n",
            "Current loss: 0.38719724153095775\n",
            "Current loss: 0.3864910025678058\n",
            "Current loss: 0.3860808060811868\n",
            "Found convergence. New loss = 0.38584225343549594, old loss =0.3860808060811868, rate of change = 0.0006182647016152099\n",
            "6.620657537275754\n",
            "1.0865288977568803 1.8447095465062915\n"
          ]
        }
      ]
    },
    {
      "cell_type": "code",
      "source": [],
      "metadata": {
        "id": "AEbLqm7HBQfi"
      },
      "execution_count": 44,
      "outputs": []
    }
  ]
}