{
  "cells": [
    {
      "cell_type": "code",
      "execution_count": 158,
      "metadata": {
        "id": "zbu6Yv4HPxct"
      },
      "outputs": [],
      "source": [
        "import pandas as pd\n",
        "import numpy as np\n",
        "import random\n",
        "\n",
        "cols       = 10     #number of x values\n",
        "rows       = 10000  #number of observations\n",
        "X          = []     #X[i] is a row\n",
        "real_betas = []     #This is used to calcualte y's\n",
        "y          = []     #Actual y's y[i] is a scalar\n",
        "\n",
        "#Create x observations\n",
        "for i in range(rows):\n",
        "  X.append([random.randrange(-500, 500) for _ in range(cols)])\n",
        "\n",
        "#Generate betas\n",
        "for i in range(cols):\n",
        "  real_betas.append(round(random.random(),4))\n",
        "\n",
        "#Create y observatins\n",
        "for i in range(rows):\n",
        "  y.append(np.dot(X[i],real_betas))"
      ]
    },
    {
      "cell_type": "code",
      "execution_count": 159,
      "metadata": {
        "id": "KbRSBt3UQAHt"
      },
      "outputs": [],
      "source": [
        "def sgd(X,y,r,batch,epoch):\n",
        "  sgd_betas = [0]*cols\n",
        "  y_int         = 0\n",
        "\n",
        "  #Do grad descent over whole dataset epoch number of times\n",
        "  for e in range(1,epoch):\n",
        "\n",
        "    #Itterte through data set\n",
        "    for j in range(rows):\n",
        "      cur_X     = X[j] #array of current x observations\n",
        "      cur_y     = y[j] #scalar of current y observation\n",
        "      batch_idx = []\n",
        "\n",
        "      #Generate random batch to update the slopes of\n",
        "      while len(batch_idx) < batch:\n",
        "        batch_idx.append(int(random.randint(0,cols-1))) #Random index between 0 and number of features\n",
        "\n",
        "      batch_beats     = [] #Storage for the coeffeicnts we selected\n",
        "      batch_features  = [] #Storage for the random batch of current x values\n",
        "\n",
        "      #Collect the random betas and their resepctive x values\n",
        "      for i in range(len(batch_idx)):\n",
        "        idx = batch_idx[i]\n",
        "        batch_beats.append(sgd_betas[idx])\n",
        "        batch_features.append(cur_X[idx])\n",
        "\n",
        "      # y_hat = m*x + b\n",
        "      y_hat = round(np.dot(batch_beats,batch_features) + y_int,4)\n",
        "\n",
        "      #Update our slopes\n",
        "      for i in range(len(batch_idx)):\n",
        "        sgd_betas[batch_idx[i]] = round(r * -2 * (cur_y - y_hat) * cur_X[batch_idx[i]]/rows,4)\n",
        "\n",
        "      #Update the intercept\n",
        "      y_int = round(r * -2*(cur_y - y_hat)/rows,4)\n",
        "\n",
        "  return sgd_betas"
      ]
    },
    {
      "cell_type": "code",
      "execution_count": 160,
      "metadata": {
        "colab": {
          "base_uri": "https://localhost:8080/"
        },
        "id": "OFko7fLfApHZ",
        "outputId": "f3f16927-dd5d-4d44-f0d1-afd3fe1dcd28"
      },
      "outputs": [
        {
          "output_type": "stream",
          "name": "stdout",
          "text": [
            "[-0.0141, -0.0085, -0.0593, -0.0582, 0.026, -0.0481, 0.043, 0.0006, 0.0162, -0.0061]\n",
            "[0.4887, 0.8338, 0.1581, 0.863, 0.0011, 0.9374, 0.7481, 0.1323, 0.8896, 0.8558]\n"
          ]
        }
      ],
      "source": [
        "print(sgd(X,y,.001,3,20))\n",
        "print(real_betas)"
      ]
    },
    {
      "cell_type": "code",
      "execution_count": 161,
      "metadata": {
        "id": "ghQtS4TBBzCf",
        "colab": {
          "base_uri": "https://localhost:8080/"
        },
        "outputId": "5110fb5d-3b0d-4d5c-8353-1b4fe4f9cf29"
      },
      "outputs": [
        {
          "output_type": "stream",
          "name": "stdout",
          "text": [
            "[0.4887 0.8338 0.1581 0.863  0.0011 0.9374 0.7481 0.1323 0.8896 0.8558]\n"
          ]
        }
      ],
      "source": [
        "from sklearn.linear_model import LinearRegression\n",
        "model = LinearRegression().fit(X, y)\n",
        "print(model.coef_)\n"
      ]
    },
    {
      "cell_type": "code",
      "source": [
        "from sklearn.linear_model import SGDRegressor\n",
        "\n",
        "# Create an SGDRegressor with L2 regularization\n",
        "model = SGDRegressor(loss=\"squared_error\", alpha=0.01)\n",
        "\n",
        "# Fit the model to your data\n",
        "model.fit(X, y)\n",
        "\n",
        "print(model.coef_)\n"
      ],
      "metadata": {
        "colab": {
          "base_uri": "https://localhost:8080/"
        },
        "id": "y8-gl6XOKI39",
        "outputId": "68b9da05-33b7-4717-d997-6b8fc2040003"
      },
      "execution_count": 165,
      "outputs": [
        {
          "output_type": "stream",
          "name": "stdout",
          "text": [
            "[-9.23975361e+10  3.08969928e+11 -1.71782623e+11  6.10345109e+10\n",
            " -2.51643363e+11  1.32487402e+11 -4.33039140e+10 -8.82091928e+10\n",
            " -3.86926586e+10  1.86810342e+11]\n"
          ]
        }
      ]
    },
    {
      "cell_type": "code",
      "source": [],
      "metadata": {
        "id": "ro6puRlUSfPU"
      },
      "execution_count": null,
      "outputs": []
    }
  ],
  "metadata": {
    "colab": {
      "provenance": []
    },
    "kernelspec": {
      "display_name": "Python 3",
      "name": "python3"
    },
    "language_info": {
      "name": "python"
    }
  },
  "nbformat": 4,
  "nbformat_minor": 0
}
