{
  "nbformat": 4,
  "nbformat_minor": 0,
  "metadata": {
    "colab": {
      "provenance": []
    },
    "kernelspec": {
      "name": "python3",
      "display_name": "Python 3"
    },
    "language_info": {
      "name": "python"
    }
  },
  "cells": [
    {
      "cell_type": "code",
      "execution_count": 1,
      "metadata": {
        "id": "kaABkjQuReos"
      },
      "outputs": [],
      "source": [
        "import numpy as np\n",
        "import matplotlib.pyplot as plt\n"
      ]
    },
    {
      "cell_type": "code",
      "source": [
        "#Loss function = sum(-ylog(h(t))-(1-y)log(1-h(t)))\n",
        "#h(t) = predection = sigmoid(t) = 1/(1+e^-t)\n",
        "#Where t is the linear fucntion W^tx where w is the weight and x is the feature obeservation\n",
        "#Gradeint descent: w: w + r*(dl/dw)\n",
        "#dl/dw = sum(x(y-h(t)))"
      ],
      "metadata": {
        "id": "wU4OH78wRj9C"
      },
      "execution_count": 2,
      "outputs": []
    },
    {
      "cell_type": "code",
      "source": [
        "X = np.array([-1,5,-10,6,1,-3,-2,-7,13])\n",
        "y = np.array([0,1,0,1,1,0,0,0,1])\n",
        "plt.scatter(X,y)"
      ],
      "metadata": {
        "colab": {
          "base_uri": "https://localhost:8080/",
          "height": 448
        },
        "id": "Eli0Z9e7XVdQ",
        "outputId": "d40c387c-09c6-4470-9508-249b5452757c"
      },
      "execution_count": 3,
      "outputs": [
        {
          "output_type": "execute_result",
          "data": {
            "text/plain": [
              "<matplotlib.collections.PathCollection at 0x7c26a9ed7340>"
            ]
          },
          "metadata": {},
          "execution_count": 3
        },
        {
          "output_type": "display_data",
          "data": {
            "text/plain": [
              "<Figure size 640x480 with 1 Axes>"
            ],
            "image/png": "[encoded data removed]"
          },
          "metadata": {}
        }
      ]
    },
    {
      "cell_type": "code",
      "source": [
        "#Testing the accuracy of the sklearn logit. But I dont think they use gradeint descent"
      ],
      "metadata": {
        "id": "hoxg2zWaZ1Qe"
      },
      "execution_count": 4,
      "outputs": []
    },
    {
      "cell_type": "code",
      "source": [
        "from sklearn.linear_model import LogisticRegression\n",
        "X_resample = X.reshape(-1,1)\n",
        "lr = LogisticRegression()\n",
        "lr.fit(X_resample,y)\n",
        "pred = np.array([-1,-1,-5,6,7,-1]).reshape(-1,1)\n",
        "lr.predict(pred)"
      ],
      "metadata": {
        "colab": {
          "base_uri": "https://localhost:8080/"
        },
        "id": "-kYWuyBfXkPr",
        "outputId": "ac94a0ba-43c9-4978-90e7-9ed93c99152a"
      },
      "execution_count": 6,
      "outputs": [
        {
          "output_type": "execute_result",
          "data": {
            "text/plain": [
              "array([0, 0, 0, 1, 1, 0])"
            ]
          },
          "metadata": {},
          "execution_count": 6
        }
      ]
    },
    {
      "cell_type": "code",
      "source": [
        "class logit():\n",
        "\n",
        "  def __init__ (self):\n",
        "    self.m = np.random.rand()\n",
        "    self.old_loss = float('inf')\n",
        "    self.n = 0\n",
        "\n",
        "  def sigmoid(self,z):\n",
        "    return 1/(1+np.exp(-z))\n",
        "\n",
        "  def loss_func(self,y,y_hat):\n",
        "    return -y*np.log(y_hat) - (1-y)*(np.log(1-y_hat))\n",
        "\n",
        "  def gradeint(self,x,y,y_hat):\n",
        "    return 1/self.n * x*(y-y_hat)\n",
        "\n",
        "  def descent(self,X,y,step_size,converge):\n",
        "    self.n = len(X)\n",
        "    loss = 0\n",
        "    dm = 0\n",
        "\n",
        "    for i in range(len(X)):\n",
        "      z = self.m * X[i]\n",
        "      y_hat = self.sigmoid(z)\n",
        "      loss += self.loss_func(y[i],y_hat)\n",
        "      dm += self.gradeint(X[i],y[i],y_hat)\n",
        "\n",
        "    #Check for convergence\n",
        "    roc = abs((loss-self.old_loss)/loss)\n",
        "    if roc <= converge:\n",
        "      print(f\"Converged at loss of {loss} and rate of change of {roc}\")\n",
        "      return False\n",
        "\n",
        "    #Else update slope, loss, and update the user on loss\n",
        "    self.m += step_size * dm\n",
        "    self.old_loss = loss\n",
        "    print(f\"Current loss: {loss}\")\n",
        "\n",
        "    return True\n",
        "\n",
        "  def fit(self,X,y,epoch=1000,step_size=.025,converge=.01):\n",
        "    for _ in range(epoch):\n",
        "      if not self.descent(X,y,step_size,converge): return\n",
        "\n",
        "  def predict(self,X):\n",
        "    result = []\n",
        "    for x in X:\n",
        "      z = x*self.m\n",
        "      y_pred = 0 if self.sigmoid(z) <.5 else 1\n",
        "      result.append(y_pred)\n",
        "    return result"
      ],
      "metadata": {
        "id": "LvKJsyOfYu3M"
      },
      "execution_count": 26,
      "outputs": []
    },
    {
      "cell_type": "code",
      "source": [
        "model = logit()\n",
        "model.fit(X,y)\n",
        "model.predict([10,-1,50,-100])"
      ],
      "metadata": {
        "colab": {
          "base_uri": "https://localhost:8080/"
        },
        "id": "jv_VaxXfaNb0",
        "outputId": "b1352628-c7f2-4d3b-fef6-a7402f4b4d7a"
      },
      "execution_count": 27,
      "outputs": [
        {
          "output_type": "stream",
          "name": "stdout",
          "text": [
            "Current loss: 0.9308129212400593\n",
            "Converged at loss of 0.9270266149493214 and rate of change of 0.004084355540261312\n"
          ]
        },
        {
          "output_type": "execute_result",
          "data": {
            "text/plain": [
              "[1, 0, 1, 0]"
            ]
          },
          "metadata": {},
          "execution_count": 27
        }
      ]
    },
    {
      "cell_type": "code",
      "source": [],
      "metadata": {
        "id": "gn59kRhkdBD_"
      },
      "execution_count": null,
      "outputs": []
    }
  ]
}
