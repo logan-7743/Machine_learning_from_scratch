{
  "nbformat": 4,
  "nbformat_minor": 0,
  "metadata": {
    "colab": {
      "provenance": []
    },
    "kernelspec": {
      "name": "python3",
      "display_name": "Python 3"
    },
    "language_info": {
      "name": "python"
    }
  },
  "cells": [
    {
      "cell_type": "markdown",
      "source": [
        "AX = B, A is  A nxm matrix X is a m sized vector and B is a n sized vecotor.\n",
        "\n",
        "A is our set of features, the X varibles. b is the obeserved y labels. Thus, X is the coeffecient matrix. But in most case there is not X that satifies this equation, there is no linear combination of A to make B. But, we can estimate it. Which is the tradtional goal of regression, but we can use linear algebra to solve this equation.\n",
        "\n",
        "First we want to project B on to A because. If we project it, then we can find the x values that solve for the project of B. (and if B is already in the column space of A, then proj(B) = B). So no the euqaion AX=proj(B) does exsit.\n",
        "\n",
        "Next we can subtract B from both sides: AX-B=proj(B)-B. Well proj(B)-B is the vector that is orthognal to A. You can see this in 3d where proj(B) is the bottom of a right traingle, B is the hypotenuse, and proj(B)-B is the connecting line, this orthognal to the surface A.\n",
        "\n",
        "Since it is orthogonal, proj(B)-B is in the null space A transpose. That it is is a subspace of the orthgonal space given by null space A transpose.\n",
        "\n",
        "So AX-B=proj(B)-B. Since proj(B)-B is given by null space A transpose, then we can multiple both sides by the transpose, which is a real soltion, and thus\n",
        "A^t(AX-b)=A^tAX-A^tB=0 => A^tAX=A^tB => X=(A^tA)A^tB. And this is the equation we will code to solve for our regression coeefeceints."
      ],
      "metadata": {
        "id": "vV10TwVwlWx8"
      }
    },
    {
      "cell_type": "code",
      "source": [
        "import numpy as np\n",
        "import random\n",
        "import time\n",
        "\n",
        "cols       = 100     #number of x values\n",
        "rows       = 100000  #number of observations\n",
        "A          = []     #X[i] is a row\n",
        "real_X = []     #This is used to calcualte y's\n",
        "B          = []     #Actual y's y[i] is a scalar\n",
        "\n",
        "#Create A\n",
        "for i in range(rows):\n",
        "  A.append([random.randrange(-500, 500) for _ in range(cols)])\n",
        "\n",
        "#Generate betas\n",
        "for i in range(cols):\n",
        "  real_X.append(round(random.random(),4))\n",
        "\n",
        "#Create y observatins\n",
        "for i in range(rows):\n",
        "  B.append(np.dot(A[i],real_X))"
      ],
      "metadata": {
        "id": "ydhVeUkMo5Tv"
      },
      "execution_count": 10,
      "outputs": []
    },
    {
      "cell_type": "code",
      "source": [
        "import time\n",
        "strt = time.time()\n",
        "\n",
        "\n",
        "A_trans   = np.transpose(A)\n",
        "A_trans_A = np.linalg.inv(np.dot(A_trans,A))\n",
        "A_trans_B = np.dot(A_trans,B)\n",
        "X         = np.dot(A_trans_A,A_trans_B)\n",
        "\n",
        "print(time.time()-strt)"
      ],
      "metadata": {
        "colab": {
          "base_uri": "https://localhost:8080/"
        },
        "id": "ws-sQDANo_3K",
        "outputId": "2a58f25c-2265-47e3-f19e-83aa3b440184"
      },
      "execution_count": 11,
      "outputs": [
        {
          "output_type": "stream",
          "name": "stdout",
          "text": [
            "25.23712682723999\n"
          ]
        }
      ]
    },
    {
      "cell_type": "code",
      "source": [
        "print(X)\n",
        "print(real_X)"
      ],
      "metadata": {
        "colab": {
          "base_uri": "https://localhost:8080/"
        },
        "id": "fWSumUWZpUmk",
        "outputId": "f09fa86f-d31b-44f6-ccea-a28ec1f3e08c"
      },
      "execution_count": 12,
      "outputs": [
        {
          "output_type": "stream",
          "name": "stdout",
          "text": [
            "[0.6752 0.9983 0.033  0.9409 0.8119 0.1685 0.4004 0.622  0.6728 0.6004\n",
            " 0.5733 0.7193 0.5895 0.1121 0.5737 0.9628 0.617  0.9651 0.145  0.5232\n",
            " 0.5639 0.8135 0.5319 0.5265 0.1073 0.6928 0.923  0.4052 0.5577 0.238\n",
            " 0.0746 0.0921 0.8348 0.2494 0.923  0.5039 0.8355 0.2677 0.6254 0.932\n",
            " 0.3591 0.6703 0.6767 0.4748 0.2769 0.3453 0.0282 0.0014 0.6328 0.8716\n",
            " 0.7908 0.1075 0.9989 0.4087 0.0471 0.8195 0.063  0.0116 0.3657 0.2907\n",
            " 0.8054 0.1291 0.4148 0.1684 0.1257 0.2983 0.43   0.6794 0.6594 0.9664\n",
            " 0.7589 0.2073 0.9934 0.6577 0.1074 0.4455 0.6179 0.6195 0.2859 0.5711\n",
            " 0.3449 0.9638 0.537  0.7939 0.709  0.4085 0.0361 0.829  0.4365 0.505\n",
            " 0.3563 0.9197 0.6142 0.4974 0.5113 0.3144 0.3351 0.6703 0.7021 0.0723]\n",
            "[0.6752, 0.9983, 0.033, 0.9409, 0.8119, 0.1685, 0.4004, 0.622, 0.6728, 0.6004, 0.5733, 0.7193, 0.5895, 0.1121, 0.5737, 0.9628, 0.617, 0.9651, 0.145, 0.5232, 0.5639, 0.8135, 0.5319, 0.5265, 0.1073, 0.6928, 0.923, 0.4052, 0.5577, 0.238, 0.0746, 0.0921, 0.8348, 0.2494, 0.923, 0.5039, 0.8355, 0.2677, 0.6254, 0.932, 0.3591, 0.6703, 0.6767, 0.4748, 0.2769, 0.3453, 0.0282, 0.0014, 0.6328, 0.8716, 0.7908, 0.1075, 0.9989, 0.4087, 0.0471, 0.8195, 0.063, 0.0116, 0.3657, 0.2907, 0.8054, 0.1291, 0.4148, 0.1684, 0.1257, 0.2983, 0.43, 0.6794, 0.6594, 0.9664, 0.7589, 0.2073, 0.9934, 0.6577, 0.1074, 0.4455, 0.6179, 0.6195, 0.2859, 0.5711, 0.3449, 0.9638, 0.537, 0.7939, 0.709, 0.4085, 0.0361, 0.829, 0.4365, 0.505, 0.3563, 0.9197, 0.6142, 0.4974, 0.5113, 0.3144, 0.3351, 0.6703, 0.7021, 0.0723]\n"
          ]
        }
      ]
    },
    {
      "cell_type": "code",
      "source": [],
      "metadata": {
        "id": "zx4DP8TLqPER"
      },
      "execution_count": null,
      "outputs": []
    }
  ]
}