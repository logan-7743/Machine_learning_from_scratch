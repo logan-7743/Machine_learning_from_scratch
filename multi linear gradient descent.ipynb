{
  "nbformat": 4,
  "nbformat_minor": 0,
  "metadata": {
    "colab": {
      "provenance": []
    },
    "kernelspec": {
      "name": "python3",
      "display_name": "Python 3"
    },
    "language_info": {
      "name": "python"
    }
  },
  "cells": [
    {
      "cell_type": "code",
      "execution_count": null,
      "metadata": {
        "id": "cj5r-axT8jqd"
      },
      "outputs": [],
      "source": [
        "import pandas as pd\n",
        "import numpy as np\n",
        "import random\n",
        "\n",
        "myrange = 100\n",
        "x1 = [random.randrange(-myrange, myrange) for _ in range(myrange)]\n",
        "x2 = [random.randrange(-myrange, myrange) for _ in range(myrange)]\n",
        "x3 = [random.randrange(-myrange, myrange) for _ in range(myrange)]\n",
        "\n",
        "y = []\n",
        "\n",
        "for i in range(myrange):\n",
        "    prob = random.random()\n",
        "    if prob <= 0.1:\n",
        "        y.append(random.randrange(-myrange, myrange))\n",
        "    else:\n",
        "        y.append(2 * x1[i] + 7 * x2[i] - 3.4 * x3[i])"
      ]
    },
    {
      "cell_type": "code",
      "source": [
        "#partial dervitve of error with respect to mi = -2xi/2(y - m0x0 - m1x1 -...- mnxn - b)\n",
        "\n",
        "def grad_desc(X,y,r,epoch):\n",
        "  slopes = np.zeros(len(X))\n",
        "  b      = 0\n",
        "\n",
        "  for _ in range(epoch):\n",
        "\n",
        "    for i in range(len(y)):\n",
        "\n",
        "      #Grab current data points\n",
        "      cur_xs = []\n",
        "      for j in range(len(X)):\n",
        "        cur_xs.append(X[j][i])\n",
        "\n",
        "      #Calcualte y_hat\n",
        "      y_hat = np.dot(slopes,cur_xs)+b\n",
        "\n",
        "      #Calculate the gradeints\n",
        "      for k in range(len(cur_xs)):\n",
        "        grad = (-2 / len(y) * cur_xs[k] * (y[i] - y_hat))\n",
        "        slopes[k] -= r * grad\n",
        "\n",
        "      #Update b\n",
        "      b -= r * (-1 / len(y)) * (y[i] - y_hat)\n",
        "\n",
        "    print(\"Epoch:\", _, \"Slopes:\", slopes, \"Intercept:\", b)\n",
        "\n",
        "\n",
        "  return slopes,b"
      ],
      "metadata": {
        "id": "QGMvtk6V9eIC"
      },
      "execution_count": null,
      "outputs": []
    },
    {
      "cell_type": "code",
      "source": [
        "print(grad_desc([x1,x2,x3],y,.0001,100))"
      ],
      "metadata": {
        "colab": {
          "base_uri": "https://localhost:8080/"
        },
        "id": "wSyIDNLLHneL",
        "outputId": "959b0593-6c04-4283-f37e-24939d05a10d"
      },
      "execution_count": null,
      "outputs": [
        {
          "output_type": "stream",
          "name": "stdout",
          "text": [
            "Epoch: 0 Slopes: [ 0.94411132  3.09265433 -1.2490311 ] Intercept: -0.0015768016610627537\n",
            "Epoch: 1 Slopes: [ 1.36045714  4.55391046 -1.90963793] Intercept: -0.0026426688726982443\n",
            "Epoch: 2 Slopes: [ 1.54453168  5.24404167 -2.25906567] Intercept: -0.0035137402434792823\n",
            "Epoch: 3 Slopes: [ 1.62633126  5.56973479 -2.44400753] Intercept: -0.004317930229922946\n",
            "Epoch: 4 Slopes: [ 1.66299235  5.72326303 -2.54199413] Intercept: -0.0051041702606805985\n",
            "Epoch: 5 Slopes: [ 1.67963479  5.79551736 -2.59398378] Intercept: -0.005889366970419487\n",
            "Epoch: 6 Slopes: [ 1.68732519  5.82944708 -2.62161686] Intercept: -0.006678133589123453\n",
            "Epoch: 7 Slopes: [ 1.69096149  5.8453332  -2.63633419] Intercept: -0.00747080674751254\n",
            "Epoch: 8 Slopes: [ 1.69272896  5.85274238 -2.64419068] Intercept: -0.008266534384437217\n",
            "Epoch: 9 Slopes: [ 1.69361485  5.85618039 -2.64839539] Intercept: -0.009064357031062172\n",
            "Epoch: 10 Slopes: [ 1.69407315  5.85776498 -2.65065206] Intercept: -0.009863513621672978\n",
            "Epoch: 11 Slopes: [ 1.69431751  5.85848873 -2.65186705] Intercept: -0.010663474036070963\n",
            "Epoch: 12 Slopes: [ 1.69445139  5.8588152  -2.65252362] Intercept: -0.011463893081077326\n",
            "Epoch: 13 Slopes: [ 1.69452647  5.85895982 -2.65288005] Intercept: -0.012264554943924212\n",
            "Epoch: 14 Slopes: [ 1.69456944  5.85902213 -2.65307472] Intercept: -0.013065328272208184\n",
            "Epoch: 15 Slopes: [ 1.6945945   5.85904771 -2.65318199] Intercept: -0.013866134603164392\n",
            "Epoch: 16 Slopes: [ 1.69460942  5.85905724 -2.65324191] Intercept: -0.014666927700831313\n",
            "Epoch: 17 Slopes: [ 1.69461854  5.85905995 -2.65327609] Intercept: -0.015467680595622306\n",
            "Epoch: 18 Slopes: [ 1.69462431  5.85905991 -2.65329627] Intercept: -0.016268377678433123\n",
            "Epoch: 19 Slopes: [ 1.69462814  5.85905883 -2.6533088 ] Intercept: -0.017069009970435953\n",
            "Epoch: 20 Slopes: [ 1.69463084  5.8590574  -2.65331715] Intercept: -0.017869572332253572\n",
            "Epoch: 21 Slopes: [ 1.6946329   5.85905591 -2.65332319] Intercept: -0.01867006183443283\n",
            "Epoch: 22 Slopes: [ 1.69463458  5.85905444 -2.65332798] Intercept: -0.01947047681349569\n",
            "Epoch: 23 Slopes: [ 1.69463604  5.85905301 -2.65333207] Intercept: -0.020270816328471195\n",
            "Epoch: 24 Slopes: [ 1.69463737  5.85905162 -2.65333578] Intercept: -0.021071079849498135\n",
            "Epoch: 25 Slopes: [ 1.69463863  5.85905025 -2.65333927] Intercept: -0.02187126708007662\n",
            "Epoch: 26 Slopes: [ 1.69463985  5.8590489  -2.65334265] Intercept: -0.022671377855914186\n",
            "Epoch: 27 Slopes: [ 1.69464105  5.85904756 -2.65334596] Intercept: -0.02347141208750069\n",
            "Epoch: 28 Slopes: [ 1.69464223  5.85904622 -2.65334923] Intercept: -0.024271369727571913\n",
            "Epoch: 29 Slopes: [ 1.6946434   5.8590449  -2.65335249] Intercept: -0.02507125075270411\n",
            "Epoch: 30 Slopes: [ 1.69464457  5.85904357 -2.65335573] Intercept: -0.025871055152915618\n",
            "Epoch: 31 Slopes: [ 1.69464574  5.85904225 -2.65335897] Intercept: -0.026670782925798553\n",
            "Epoch: 32 Slopes: [ 1.6946469   5.85904093 -2.6533622 ] Intercept: -0.027470434073209718\n",
            "Epoch: 33 Slopes: [ 1.69464807  5.85903961 -2.65336543] Intercept: -0.028270008599406062\n",
            "Epoch: 34 Slopes: [ 1.69464923  5.85903829 -2.65336866] Intercept: -0.029069506509994635\n",
            "Epoch: 35 Slopes: [ 1.6946504   5.85903697 -2.65337189] Intercept: -0.029868927811341584\n",
            "Epoch: 36 Slopes: [ 1.69465156  5.85903565 -2.65337512] Intercept: -0.030668272510239607\n",
            "Epoch: 37 Slopes: [ 1.69465272  5.85903433 -2.65337835] Intercept: -0.0314675406137209\n",
            "Epoch: 38 Slopes: [ 1.69465388  5.85903301 -2.65338158] Intercept: -0.03226673212895193\n",
            "Epoch: 39 Slopes: [ 1.69465505  5.85903169 -2.6533848 ] Intercept: -0.03306584706317436\n",
            "Epoch: 40 Slopes: [ 1.69465621  5.85903037 -2.65338803] Intercept: -0.03386488542367173\n",
            "Epoch: 41 Slopes: [ 1.69465737  5.85902905 -2.65339126] Intercept: -0.034663847217750884\n",
            "Epoch: 42 Slopes: [ 1.69465853  5.85902773 -2.65339448] Intercept: -0.03546273245273154\n",
            "Epoch: 43 Slopes: [ 1.69465969  5.85902641 -2.65339771] Intercept: -0.03626154113594003\n",
            "Epoch: 44 Slopes: [ 1.69466086  5.8590251  -2.65340093] Intercept: -0.0370602732747064\n",
            "Epoch: 45 Slopes: [ 1.69466202  5.85902378 -2.65340416] Intercept: -0.03785892887636225\n",
            "Epoch: 46 Slopes: [ 1.69466318  5.85902246 -2.65340738] Intercept: -0.03865750794823999\n",
            "Epoch: 47 Slopes: [ 1.69466434  5.85902114 -2.65341061] Intercept: -0.03945601049767191\n",
            "Epoch: 48 Slopes: [ 1.6946655   5.85901982 -2.65341383] Intercept: -0.04025443653199023\n",
            "Epoch: 49 Slopes: [ 1.69466666  5.8590185  -2.65341705] Intercept: -0.04105278605852644\n",
            "Epoch: 50 Slopes: [ 1.69466782  5.85901719 -2.65342028] Intercept: -0.04185105908461166\n",
            "Epoch: 51 Slopes: [ 1.69466898  5.85901587 -2.6534235 ] Intercept: -0.04264925561757627\n",
            "Epoch: 52 Slopes: [ 1.69467015  5.85901455 -2.65342672] Intercept: -0.04344737566475008\n",
            "Epoch: 53 Slopes: [ 1.69467131  5.85901323 -2.65342994] Intercept: -0.044245419233462174\n",
            "Epoch: 54 Slopes: [ 1.69467247  5.85901192 -2.65343317] Intercept: -0.045043386331040935\n",
            "Epoch: 55 Slopes: [ 1.69467363  5.8590106  -2.65343639] Intercept: -0.04584127696481405\n",
            "Epoch: 56 Slopes: [ 1.69467479  5.85900928 -2.65343961] Intercept: -0.046639091142108596\n",
            "Epoch: 57 Slopes: [ 1.69467595  5.85900796 -2.65344283] Intercept: -0.04743682887025085\n",
            "Epoch: 58 Slopes: [ 1.69467711  5.85900665 -2.65344605] Intercept: -0.04823449015656635\n",
            "Epoch: 59 Slopes: [ 1.69467827  5.85900533 -2.65344927] Intercept: -0.04903207500838001\n",
            "Epoch: 60 Slopes: [ 1.69467943  5.85900401 -2.65345249] Intercept: -0.04982958343301611\n",
            "Epoch: 61 Slopes: [ 1.69468059  5.8590027  -2.65345571] Intercept: -0.050627015437798135\n",
            "Epoch: 62 Slopes: [ 1.69468175  5.85900138 -2.65345893] Intercept: -0.05142437103004879\n",
            "Epoch: 63 Slopes: [ 1.69468291  5.85900007 -2.65346215] Intercept: -0.05222165021709025\n",
            "Epoch: 64 Slopes: [ 1.69468407  5.85899875 -2.65346537] Intercept: -0.053018853006243885\n",
            "Epoch: 65 Slopes: [ 1.69468523  5.85899743 -2.65346859] Intercept: -0.05381597940483043\n",
            "Epoch: 66 Slopes: [ 1.69468639  5.85899612 -2.65347181] Intercept: -0.05461302942016986\n",
            "Epoch: 67 Slopes: [ 1.69468755  5.8589948  -2.65347503] Intercept: -0.055410003059581436\n",
            "Epoch: 68 Slopes: [ 1.6946887   5.85899349 -2.65347824] Intercept: -0.05620690033038378\n",
            "Epoch: 69 Slopes: [ 1.69468986  5.85899217 -2.65348146] Intercept: -0.05700372123989479\n",
            "Epoch: 70 Slopes: [ 1.69469102  5.85899086 -2.65348468] Intercept: -0.0578004657954316\n",
            "Epoch: 71 Slopes: [ 1.69469218  5.85898954 -2.6534879 ] Intercept: -0.05859713400431077\n",
            "Epoch: 72 Slopes: [ 1.69469334  5.85898823 -2.65349111] Intercept: -0.05939372587384803\n",
            "Epoch: 73 Slopes: [ 1.6946945   5.85898691 -2.65349433] Intercept: -0.060190241411358494\n",
            "Epoch: 74 Slopes: [ 1.69469566  5.8589856  -2.65349754] Intercept: -0.06098668062415652\n",
            "Epoch: 75 Slopes: [ 1.69469682  5.85898428 -2.65350076] Intercept: -0.06178304351955581\n",
            "Epoch: 76 Slopes: [ 1.69469797  5.85898297 -2.65350397] Intercept: -0.06257933010486931\n",
            "Epoch: 77 Slopes: [ 1.69469913  5.85898165 -2.65350719] Intercept: -0.06337554038740942\n",
            "Epoch: 78 Slopes: [ 1.69470029  5.85898034 -2.6535104 ] Intercept: -0.06417167437448765\n",
            "Epoch: 79 Slopes: [ 1.69470145  5.85897902 -2.65351362] Intercept: -0.06496773207341482\n",
            "Epoch: 80 Slopes: [ 1.69470261  5.85897771 -2.65351683] Intercept: -0.06576371349150104\n",
            "Epoch: 81 Slopes: [ 1.69470376  5.85897639 -2.65352005] Intercept: -0.06655961863605601\n",
            "Epoch: 82 Slopes: [ 1.69470492  5.85897508 -2.65352326] Intercept: -0.06735544751438832\n",
            "Epoch: 83 Slopes: [ 1.69470608  5.85897377 -2.65352647] Intercept: -0.06815120013380614\n",
            "Epoch: 84 Slopes: [ 1.69470723  5.85897245 -2.65352969] Intercept: -0.06894687650161685\n",
            "Epoch: 85 Slopes: [ 1.69470839  5.85897114 -2.6535329 ] Intercept: -0.06974247662512714\n",
            "Epoch: 86 Slopes: [ 1.69470955  5.85896983 -2.65353611] Intercept: -0.07053800051164287\n",
            "Epoch: 87 Slopes: [ 1.69471071  5.85896851 -2.65353932] Intercept: -0.0713334481684694\n",
            "Epoch: 88 Slopes: [ 1.69471186  5.8589672  -2.65354253] Intercept: -0.07212881960291137\n",
            "Epoch: 89 Slopes: [ 1.69471302  5.85896589 -2.65354575] Intercept: -0.0729241148222726\n",
            "Epoch: 90 Slopes: [ 1.69471418  5.85896457 -2.65354896] Intercept: -0.07371933383385618\n",
            "Epoch: 91 Slopes: [ 1.69471533  5.85896326 -2.65355217] Intercept: -0.07451447664496476\n",
            "Epoch: 92 Slopes: [ 1.69471649  5.85896195 -2.65355538] Intercept: -0.07530954326289999\n",
            "Epoch: 93 Slopes: [ 1.69471765  5.85896064 -2.65355859] Intercept: -0.07610453369496303\n",
            "Epoch: 94 Slopes: [ 1.6947188   5.85895932 -2.6535618 ] Intercept: -0.07689944794845412\n",
            "Epoch: 95 Slopes: [ 1.69471996  5.85895801 -2.65356501] Intercept: -0.07769428603067312\n",
            "Epoch: 96 Slopes: [ 1.69472111  5.8589567  -2.65356822] Intercept: -0.07848904794891885\n",
            "Epoch: 97 Slopes: [ 1.69472227  5.85895539 -2.65357143] Intercept: -0.07928373371048976\n",
            "Epoch: 98 Slopes: [ 1.69472343  5.85895408 -2.65357463] Intercept: -0.08007834332268329\n",
            "Epoch: 99 Slopes: [ 1.69472458  5.85895276 -2.65357784] Intercept: -0.08087287679279638\n",
            "(array([ 1.69472458,  5.85895276, -2.65357784]), -0.08087287679279638)\n"
          ]
        }
      ]
    },
    {
      "cell_type": "code",
      "source": [
        "for i in range(len(y)):"
      ],
      "metadata": {
        "colab": {
          "base_uri": "https://localhost:8080/",
          "height": 110
        },
        "id": "C3I4WhA3HsS0",
        "outputId": "1056fb6c-95e6-4174-9ea3-7b5b2b4b448f"
      },
      "execution_count": null,
      "outputs": [
        {
          "output_type": "error",
          "ename": "SyntaxError",
          "evalue": "incomplete input (<ipython-input-62-32d9ce517b41>, line 1)",
          "traceback": [
            "\u001b[0;36m  File \u001b[0;32m\"<ipython-input-62-32d9ce517b41>\"\u001b[0;36m, line \u001b[0;32m1\u001b[0m\n\u001b[0;31m    for i in range(len(y)):\u001b[0m\n\u001b[0m                           ^\u001b[0m\n\u001b[0;31mSyntaxError\u001b[0m\u001b[0;31m:\u001b[0m incomplete input\n"
          ]
        }
      ]
    }
  ]
}
